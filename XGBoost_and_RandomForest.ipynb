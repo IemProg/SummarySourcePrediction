{
 "cells": [
  {
   "cell_type": "code",
   "execution_count": null,
   "id": "0e404b7e",
   "metadata": {},
   "outputs": [],
   "source": [
    "import pandas as pd\n",
    "from sklearn.feature_extraction.text import TfidfVectorizer, HashingVectorizer\n",
    "from sklearn.tree import DecisionTreeClassifier\n",
    "from sklearn.ensemble import RandomForestClassifier\n",
    "import csv\n",
    "import random\n",
    "import transformers\n",
    "from sklearn.model_selection import train_test_split\n",
    "from sklearn.metrics import accuracy_score\n",
    "from xgboost import XGBClassifier\n",
    "from catboost import CatBoostRegressor\n",
    "random.seed(1)"
   ]
  },
  {
   "cell_type": "code",
   "execution_count": null,
   "id": "1b94a594",
   "metadata": {},
   "outputs": [],
   "source": [
    "# Read The data\n",
    "training_set = pd.read_json('./train_set.json')\n",
    "test_set = pd.read_json('./test_set.json')"
   ]
  },
  {
   "cell_type": "code",
   "execution_count": 3,
   "id": "4639ee44",
   "metadata": {},
   "outputs": [],
   "source": [
    "from sklearn.model_selection import train_test_split\n",
    "X_train, X_test = train_test_split(training_set, test_size=0.25, random_state=42)"
   ]
  },
  {
   "cell_type": "code",
   "execution_count": 4,
   "id": "0b340393",
   "metadata": {},
   "outputs": [
    {
     "data": {
      "text/html": [
       "<div>\n",
       "<style scoped>\n",
       "    .dataframe tbody tr th:only-of-type {\n",
       "        vertical-align: middle;\n",
       "    }\n",
       "\n",
       "    .dataframe tbody tr th {\n",
       "        vertical-align: top;\n",
       "    }\n",
       "\n",
       "    .dataframe thead th {\n",
       "        text-align: right;\n",
       "    }\n",
       "</style>\n",
       "<table border=\"1\" class=\"dataframe\">\n",
       "  <thead>\n",
       "    <tr style=\"text-align: right;\">\n",
       "      <th></th>\n",
       "      <th>document</th>\n",
       "      <th>summary</th>\n",
       "      <th>label</th>\n",
       "    </tr>\n",
       "  </thead>\n",
       "  <tbody>\n",
       "    <tr>\n",
       "      <th>3836</th>\n",
       "      <td>Former QPR manager Harry Redknapp says that To...</td>\n",
       "      <td>Harry Redknapp says Tottenham have not pulled ...</td>\n",
       "      <td>1</td>\n",
       "    </tr>\n",
       "    <tr>\n",
       "      <th>6408</th>\n",
       "      <td>Franck Ribery has dismissed reports linking Wo...</td>\n",
       "      <td>kevin de bruyne has been linked with a move to...</td>\n",
       "      <td>0</td>\n",
       "    </tr>\n",
       "    <tr>\n",
       "      <th>4840</th>\n",
       "      <td>A man was left with a swollen and painful peni...</td>\n",
       "      <td>Szilveszter , 24 , had petroleum jelly injecte...</td>\n",
       "      <td>1</td>\n",
       "    </tr>\n",
       "    <tr>\n",
       "      <th>527</th>\n",
       "      <td>Children who experience stressful events such ...</td>\n",
       "      <td>Swedish scientists analysed more than 10,000 f...</td>\n",
       "      <td>1</td>\n",
       "    </tr>\n",
       "    <tr>\n",
       "      <th>6105</th>\n",
       "      <td>Atlanta (CNN)A fake name on a Facebook post ca...</td>\n",
       "      <td>Sheriff 's spokeswoman : Ebony Dickens is out ...</td>\n",
       "      <td>1</td>\n",
       "    </tr>\n",
       "    <tr>\n",
       "      <th>...</th>\n",
       "      <td>...</td>\n",
       "      <td>...</td>\n",
       "      <td>...</td>\n",
       "    </tr>\n",
       "    <tr>\n",
       "      <th>5226</th>\n",
       "      <td>Straight after Easter on planet football comes...</td>\n",
       "      <td>Chelsea boss Jose Mourinho has spoken in defen...</td>\n",
       "      <td>1</td>\n",
       "    </tr>\n",
       "    <tr>\n",
       "      <th>5390</th>\n",
       "      <td>A 12-year-old sports fan from Texas - who's be...</td>\n",
       "      <td>Nicholas Connors gave a rousing performance ah...</td>\n",
       "      <td>0</td>\n",
       "    </tr>\n",
       "    <tr>\n",
       "      <th>860</th>\n",
       "      <td>This was tricky for Steve Cotterill. He did no...</td>\n",
       "      <td>Steve Cotterill has taken Bristol City to the ...</td>\n",
       "      <td>0</td>\n",
       "    </tr>\n",
       "    <tr>\n",
       "      <th>7603</th>\n",
       "      <td>John Carver has challenged his Newcastle playe...</td>\n",
       "      <td>John Carver says his players must lift the pre...</td>\n",
       "      <td>1</td>\n",
       "    </tr>\n",
       "    <tr>\n",
       "      <th>7270</th>\n",
       "      <td>Polish police are asking for help identifying ...</td>\n",
       "      <td>Polish police are appealing for help identifyi...</td>\n",
       "      <td>0</td>\n",
       "    </tr>\n",
       "  </tbody>\n",
       "</table>\n",
       "<p>6000 rows × 3 columns</p>\n",
       "</div>"
      ],
      "text/plain": [
       "                                               document  \\\n",
       "3836  Former QPR manager Harry Redknapp says that To...   \n",
       "6408  Franck Ribery has dismissed reports linking Wo...   \n",
       "4840  A man was left with a swollen and painful peni...   \n",
       "527   Children who experience stressful events such ...   \n",
       "6105  Atlanta (CNN)A fake name on a Facebook post ca...   \n",
       "...                                                 ...   \n",
       "5226  Straight after Easter on planet football comes...   \n",
       "5390  A 12-year-old sports fan from Texas - who's be...   \n",
       "860   This was tricky for Steve Cotterill. He did no...   \n",
       "7603  John Carver has challenged his Newcastle playe...   \n",
       "7270  Polish police are asking for help identifying ...   \n",
       "\n",
       "                                                summary  label  \n",
       "3836  Harry Redknapp says Tottenham have not pulled ...      1  \n",
       "6408  kevin de bruyne has been linked with a move to...      0  \n",
       "4840  Szilveszter , 24 , had petroleum jelly injecte...      1  \n",
       "527   Swedish scientists analysed more than 10,000 f...      1  \n",
       "6105  Sheriff 's spokeswoman : Ebony Dickens is out ...      1  \n",
       "...                                                 ...    ...  \n",
       "5226  Chelsea boss Jose Mourinho has spoken in defen...      1  \n",
       "5390  Nicholas Connors gave a rousing performance ah...      0  \n",
       "860   Steve Cotterill has taken Bristol City to the ...      0  \n",
       "7603  John Carver says his players must lift the pre...      1  \n",
       "7270  Polish police are appealing for help identifyi...      0  \n",
       "\n",
       "[6000 rows x 3 columns]"
      ]
     },
     "execution_count": 4,
     "metadata": {},
     "output_type": "execute_result"
    }
   ],
   "source": [
    "X_train"
   ]
  },
  {
   "cell_type": "markdown",
   "id": "6deca0c9",
   "metadata": {},
   "source": [
    "Doc2Vec Features"
   ]
  },
  {
   "cell_type": "code",
   "execution_count": 5,
   "id": "22366ba5",
   "metadata": {},
   "outputs": [
    {
     "name": "stderr",
     "output_type": "stream",
     "text": [
      "C:\\Users\\ALike\\.conda\\envs\\tensorflow\\lib\\site-packages\\gensim\\similarities\\__init__.py:15: UserWarning: The gensim.similarities.levenshtein submodule is disabled, because the optional Levenshtein package <https://pypi.org/project/python-Levenshtein/> is unavailable. Install Levenhstein (e.g. `pip install python-Levenshtein`) to suppress this warning.\n",
      "  warnings.warn(msg)\n"
     ]
    }
   ],
   "source": [
    "from gensim.test.utils import common_texts\n",
    "from gensim.models.doc2vec import Doc2Vec, TaggedDocument"
   ]
  },
  {
   "cell_type": "code",
   "execution_count": 6,
   "id": "b9c09a2f",
   "metadata": {},
   "outputs": [],
   "source": [
    "import gensim\n",
    "import numpy as np\n",
    "from gensim.models.doc2vec import Doc2Vec, TaggedDocument\n",
    "def read_corpus(df, tokens_only=False):\n",
    "    for idx, row in df.iterrows():\n",
    "        tokens = gensim.utils.simple_preprocess(row['summary'])\n",
    "        if tokens_only:\n",
    "            yield tokens\n",
    "        else:\n",
    "            # For training data, add tags\n",
    "            yield gensim.models.doc2vec.TaggedDocument(tokens, [idx])"
   ]
  },
  {
   "cell_type": "code",
   "execution_count": 7,
   "id": "38b28d70",
   "metadata": {},
   "outputs": [],
   "source": [
    "train_corpus = list(read_corpus(X_train))\n",
    "test_corpus = list(read_corpus(X_test, tokens_only=True))"
   ]
  },
  {
   "cell_type": "code",
   "execution_count": 25,
   "id": "bc4e077e",
   "metadata": {},
   "outputs": [],
   "source": [
    "model = gensim.models.doc2vec.Doc2Vec(vector_size=500, min_count=2, epochs=1000)\n",
    "model.build_vocab(train_corpus)"
   ]
  },
  {
   "cell_type": "code",
   "execution_count": 26,
   "id": "d5ae741d",
   "metadata": {},
   "outputs": [],
   "source": [
    "model.train(train_corpus, total_examples=model.corpus_count, epochs=model.epochs)"
   ]
  },
  {
   "cell_type": "code",
   "execution_count": null,
   "id": "766bc12e",
   "metadata": {},
   "outputs": [],
   "source": [
    "train_lst_vecs = []\n",
    "test_lst_vecs = []\n",
    "for i in enumerate(train_corpus):\n",
    "    train_lst_vecs.append(model.infer_vector(i[1][0]))\n",
    "for i in test_corpus:\n",
    "    test_lst_vecs.append(model.infer_vector(i))\n",
    "X_train['doc2vec'] = train_lst_vecs\n",
    "X_test['doc2vec'] = test_lst_vecs"
   ]
  },
  {
   "cell_type": "code",
   "execution_count": null,
   "id": "1e178b84",
   "metadata": {},
   "outputs": [],
   "source": [
    "train_X = np.stack(train_lst_vecs, axis=0)\n",
    "test_X = np.stack(test_lst_vecs, axis=0)"
   ]
  },
  {
   "cell_type": "code",
   "execution_count": null,
   "id": "01679c70",
   "metadata": {},
   "outputs": [],
   "source": [
    "train_X.shape"
   ]
  },
  {
   "cell_type": "code",
   "execution_count": null,
   "id": "033a77d9",
   "metadata": {},
   "outputs": [],
   "source": [
    "# Random Forest\n",
    "rf = RandomForestClassifier()\n",
    "rf.fit(train_X, X_train['label'])\n",
    "RF_predictions = rf.predict(test_X)\n",
    "# Use score method to get accuracy of model\n",
    "acc_RF = accuracy_score(X_test['label'], RF_predictions)\n",
    "print(acc_RF)\n",
    "\n",
    "score_RF = rf.score(train_X, X_train['label'])\n",
    "print(score_RF)"
   ]
  },
  {
   "cell_type": "code",
   "execution_count": null,
   "id": "54da6330",
   "metadata": {},
   "outputs": [],
   "source": [
    "acc_RF = accuracy_score(X_test['label'], RF_predictions)\n",
    "print(acc_RF)"
   ]
  },
  {
   "cell_type": "code",
   "execution_count": null,
   "id": "8afb6196",
   "metadata": {},
   "outputs": [],
   "source": [
    "xgbc = XGBClassifier()\n",
    "xgbc.fit(train_X, X_train['label'])\n",
    "xgbc_predictions = xgbc.predict(test_X)\n",
    "print(accuracy_score(xgbc_predictions, X_test['label']))\n",
    "# Use score method to get accuracy of model\n",
    "score_RF = xgbc.score(np.array(train_X), X_train['label'])\n",
    "print(score_RF)"
   ]
  },
  {
   "cell_type": "code",
   "execution_count": null,
   "id": "2f9db2ee",
   "metadata": {},
   "outputs": [],
   "source": [
    "# Write predictions to a file\n",
    "with open(\"./results/submission_xgboost_doc2vec_200_20thmarch.csv\", \"w\") as pred:\n",
    "    csv_out = csv.writer(pred)\n",
    "    csv_out.writerow(['id','label'])\n",
    "    for i, row in enumerate(RF_predictions):\n",
    "        csv_out.writerow([i, row])"
   ]
  },
  {
   "cell_type": "code",
   "execution_count": null,
   "id": "f4258022",
   "metadata": {},
   "outputs": [],
   "source": [
    "np.unique(xgbc_predictions, return_counts=True)"
   ]
  },
  {
   "cell_type": "code",
   "execution_count": null,
   "id": "623dc298",
   "metadata": {},
   "outputs": [],
   "source": [
    "np.unique(RF_predictions, return_counts=True)"
   ]
  },
  {
   "cell_type": "code",
   "execution_count": null,
   "id": "15c251e2",
   "metadata": {},
   "outputs": [],
   "source": [
    "X_test.shape"
   ]
  },
  {
   "cell_type": "code",
   "execution_count": null,
   "id": "31dbbba2",
   "metadata": {},
   "outputs": [],
   "source": []
  }
 ],
 "metadata": {
  "kernelspec": {
   "display_name": "Python 3 (ipykernel)",
   "language": "python",
   "name": "python3"
  },
  "language_info": {
   "codemirror_mode": {
    "name": "ipython",
    "version": 3
   },
   "file_extension": ".py",
   "mimetype": "text/x-python",
   "name": "python",
   "nbconvert_exporter": "python",
   "pygments_lexer": "ipython3",
   "version": "3.9.0"
  }
 },
 "nbformat": 4,
 "nbformat_minor": 5
}
